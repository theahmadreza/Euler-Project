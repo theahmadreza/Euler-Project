{
 "cells": [
  {
   "cell_type": "markdown",
   "metadata": {},
   "source": [
    "## Project 2 by Euler project\n",
    "- Even Fibonacci numbers"
   ]
  },
  {
   "cell_type": "code",
   "execution_count": 5,
   "metadata": {},
   "outputs": [],
   "source": [
    "def IsEven(n):\n",
    "    if n % 2 == 0:\n",
    "        return True\n",
    "    else:\n",
    "        return False"
   ]
  },
  {
   "cell_type": "code",
   "execution_count": null,
   "metadata": {},
   "outputs": [],
   "source": [
    "f0 = 1\n",
    "f1 = 2\n",
    "\n",
    "sum = 0\n",
    "\n",
    "while (f0 < 4*10**6):\n",
    "    if IsEven(f0):\n",
    "        sum = sum + f0\n",
    "    fn = f0 + f1 \n",
    "    f0 = f1\n",
    "    f1 = fn\n",
    " \n",
    "print(sum)    \n"
   ]
  }
 ],
 "metadata": {
  "kernelspec": {
   "display_name": "Python 3.10.6 32-bit (system)",
   "language": "python",
   "name": "python3"
  },
  "language_info": {
   "codemirror_mode": {
    "name": "ipython",
    "version": 3
   },
   "file_extension": ".py",
   "mimetype": "text/x-python",
   "name": "python",
   "nbconvert_exporter": "python",
   "pygments_lexer": "ipython3",
   "version": "3.10.6"
  },
  "orig_nbformat": 4,
  "vscode": {
   "interpreter": {
    "hash": "3107071db377d94ab07d63e0e9b3821ad950e397787306ea2338a0f5e01b7641"
   }
  }
 },
 "nbformat": 4,
 "nbformat_minor": 2
}
